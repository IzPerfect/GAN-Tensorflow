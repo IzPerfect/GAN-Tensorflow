{
 "cells": [
  {
   "cell_type": "code",
   "execution_count": 1,
   "metadata": {},
   "outputs": [
    {
     "name": "stdout",
     "output_type": "stream",
     "text": [
      "tensorflow version is :  1.2.1\n"
     ]
    }
   ],
   "source": [
    "import tensorflow as tf\n",
    "import numpy as np\n",
    "import matplotlib.pyplot as plt\n",
    "import os\n",
    "import tensorflow.contrib.slim as slim\n",
    "from scipy.misc import imread, imresize\n",
    "from tensorflow.examples.tutorials.mnist import input_data\n",
    "\n",
    "%matplotlib inline\n",
    "print('tensorflow version is : ',tf.__version__)"
   ]
  },
  {
   "cell_type": "markdown",
   "metadata": {},
   "source": [
    "# Download MNIST Dataset"
   ]
  },
  {
   "cell_type": "code",
   "execution_count": 2,
   "metadata": {},
   "outputs": [
    {
     "name": "stdout",
     "output_type": "stream",
     "text": [
      "Extracting ./data/mnist\\train-images-idx3-ubyte.gz\n",
      "Extracting ./data/mnist\\train-labels-idx1-ubyte.gz\n",
      "Extracting ./data/mnist\\t10k-images-idx3-ubyte.gz\n",
      "Extracting ./data/mnist\\t10k-labels-idx1-ubyte.gz\n"
     ]
    }
   ],
   "source": [
    "mnist = input_data.read_data_sets('./data/mnist', one_hot=True) # download"
   ]
  },
  {
   "cell_type": "markdown",
   "metadata": {},
   "source": [
    "# Define functions"
   ]
  },
  {
   "cell_type": "code",
   "execution_count": 3,
   "metadata": {
    "collapsed": true
   },
   "outputs": [],
   "source": [
    "def get_session():\n",
    "    config = tf.ConfigProto()\n",
    "    config.allow_soft_placement=True\n",
    "    config.gpu_options.allow_growth = False\n",
    "    config.log_device_placement=False\n",
    "    sess = tf.Session(config = config)\n",
    "    \n",
    "    return sess\n",
    "    \n",
    "def make_noise(batch_size, noise_size):\n",
    "    return np.random.randn(batch_size, noise_size)    \n",
    "    \n",
    "def lrelu(x, leak=0.2, name=\"lrelu\"):\n",
    "    return tf.maximum(x, leak*x)\n",
    "\n",
    "    \n",
    "\n",
    "def generator(Z, layer1, layer2, name = 'Generator'):\n",
    "    with tf.variable_scope(name):\n",
    "        fn = tf.nn.relu\n",
    "        L1 = tf.layers.dense(Z, layer1, activation = fn)\n",
    "        L2 = tf.layers.dense(L1, layer2, activation = fn)\n",
    "        L3 = tf.layers.dense(L2, 784, activation = fn)\n",
    "        \n",
    "        return L3\n",
    "    \n",
    "def discriminator(Z, layer1, layer2, name = 'Discriminator', reuse = None):\n",
    "    with tf.variable_scope(name) as disc:\n",
    "        if reuse:\n",
    "            disc.reuse_variables()\n",
    "            \n",
    "        fn = tf.nn.relu\n",
    "        L1 = tf.layers.dense(Z, layer1, activation = fn)\n",
    "        L2 = tf.layers.dense(L1, layer2, activation = fn)\n",
    "        L3 = tf.layers.dense(L2, 1, activation = None)\n",
    "        \n",
    "        return L3\n",
    "    \n",
    "def generator_conv(Z, feat_map1, feat_map2, filter_size, is_training = True, name = 'Generator_conv'):\n",
    "    with tf.variable_scope(name):\n",
    "       \n",
    "        L1 = slim.fully_connected(Z, 1024, activation_fn = tf.nn.relu, \n",
    "                                   weights_initializer = slim.xavier_initializer(), normalizer_fn = slim.batch_norm, normalizer_params = {'is_training' : is_training})\n",
    "        \n",
    "        L2 = slim.fully_connected(L1, 7*7*128, activation_fn = tf.nn.relu, \n",
    "                                   weights_initializer = slim.xavier_initializer(), normalizer_fn = slim.batch_norm, normalizer_params = {'is_training' : is_training})\n",
    "        L2 = tf.reshape(L2, [-1,7,7,128])\n",
    "        L3 = slim.conv2d_transpose(L2, feat_map1,filter_size,stride = 2, padding = 'SAME', activation_fn = tf.nn.relu, \n",
    "                                   weights_initializer = slim.xavier_initializer(), normalizer_fn = slim.batch_norm, normalizer_params = {'is_training' : is_training}, scope = 'slim_conv_transpose1')\n",
    "        L4 = slim.conv2d_transpose(L3, feat_map2,filter_size,stride = 2, padding = 'SAME', activation_fn = tf.nn.sigmoid, \n",
    "                                   weights_initializer =slim.xavier_initializer() ,scope = 'slim_conv_transpose2')\n",
    "        L4 = tf.reshape(L4, [-1,784])\n",
    "        return L4\n",
    "    \n",
    "def discriminator_conv(Z, feat_map1,feat_map2, filter_size, is_training=True, name = 'Discriminator_conv', reuse = None):\n",
    "    with tf.variable_scope(name) as disc:\n",
    "        if reuse:\n",
    "            disc.reuse_variables()\n",
    "        \n",
    "        init = slim.xavier_initializer()\n",
    "        fn = lrelu\n",
    "        Z = tf.reshape(Z, [-1, 28, 28, 1]) # transter to 4dim in slim\n",
    "        \n",
    "        L1 = slim.conv2d(Z, feat_map1,filter_size, padding = 'SAME', activation_fn = fn, weights_initializer = init,\n",
    "                         normalizer_fn = slim.batch_norm,normalizer_params = {'is_training' : is_training}, scope = 'slim_conv1')\n",
    "        \n",
    "        L2 = slim.conv2d(L1, feat_map2,filter_size, padding = 'SAME', activation_fn = fn, weights_initializer = init,\n",
    "                         normalizer_fn = slim.batch_norm, normalizer_params = {'is_training' : is_training},scope = 'slim_conv2')\n",
    "        \n",
    "        L2 = slim.flatten(L2, scope = 'flatten_slim_layer')\n",
    "        \n",
    "        L3 = slim.fully_connected(L2, 1, activation_fn = None)\n",
    "        \n",
    "\n",
    "        \n",
    "        return L3\n",
    "    \n",
    "def loss_gan(D_real, D_fake):\n",
    "    loss_real = tf.reduce_mean(tf.nn.sigmoid_cross_entropy_with_logits(logits = D_real, \n",
    "                                                                           labels = tf.ones_like(D_real)))\n",
    "    loss_fake = tf.reduce_mean(tf.nn.sigmoid_cross_entropy_with_logits(logits = D_fake, \n",
    "                                                                           labels = tf.zeros_like(D_fake)))\n",
    "    loss_G = tf.reduce_mean(tf.nn.sigmoid_cross_entropy_with_logits(logits = D_fake, \n",
    "                                                                           labels = tf.ones_like(D_fake)))\n",
    "    return loss_real + loss_fake, loss_G\n",
    "\n",
    "\n",
    "def loss_lsgan(D_real, D_fake):\n",
    "    loss_D = tf.reduce_mean(tf.square(D_real - 1) + tf.square(D_fake))*0.5\n",
    "             \n",
    "    loss_G = tf.reduce_mean(tf.square(D_fake - 1))*0.5\n",
    "    return loss_D, loss_G\n",
    "\n",
    "\n",
    "def display(sess, G, noise,fig_num=5):\n",
    "    \n",
    " \n",
    "    images = sess.run(G, feed_dict = {Z:noise, is_training : False})\n",
    "\n",
    "    fig = plt.figure()\n",
    "    for i in range(fig_num):\n",
    "        snap = fig.add_subplot(1, fig_num, i+1)\n",
    "        snap.set_xticks([])\n",
    "        snap.set_yticks([])\n",
    "        plt.imshow(images[i].reshape([28, 28]), cmap = 'gray')\n",
    "    plt.show()"
   ]
  },
  {
   "cell_type": "markdown",
   "metadata": {},
   "source": [
    "# Hyperparameter Settings"
   ]
  },
  {
   "cell_type": "code",
   "execution_count": 4,
   "metadata": {
    "collapsed": true
   },
   "outputs": [],
   "source": [
    "batch_size = 100\n",
    "noise_size = 128\n",
    "\n",
    "epoch = 101\n",
    "\n",
    "learning_rate = 0.001"
   ]
  },
  {
   "cell_type": "markdown",
   "metadata": {},
   "source": [
    "# VanillaGAN setting"
   ]
  },
  {
   "cell_type": "code",
   "execution_count": 5,
   "metadata": {
    "collapsed": true
   },
   "outputs": [],
   "source": [
    "X = tf.placeholder(tf.float32, [None, 784])\n",
    "Z = tf.placeholder(tf.float32, [None, noise_size])\n",
    "is_training = tf.placeholder(tf.bool)\n",
    "\n",
    "G = generator(Z, 128, 128)\n",
    "D_real = discriminator(X, 128, 128)\n",
    "D_fake = discriminator(G, 128, 128, reuse = True)\n",
    "\n",
    "loss_D, loss_G = loss_gan(D_real, D_fake)\n",
    "\n",
    "g_vars = tf.get_collection(tf.GraphKeys.TRAINABLE_VARIABLES, scope = 'Generator')\n",
    "d_vars = tf.get_collection(tf.GraphKeys.TRAINABLE_VARIABLES, scope = 'Discriminator')\n",
    "\n",
    "\n",
    "d_optimizer = tf.train.AdamOptimizer(learning_rate = learning_rate/2)\n",
    "g_optimizer = tf.train.AdamOptimizer(learning_rate = learning_rate)\n",
    "\n",
    "d_grad = d_optimizer.compute_gradients(loss_D, d_vars)\n",
    "g_grad = g_optimizer.compute_gradients(loss_G, g_vars)\n",
    "\n",
    "update_d = d_optimizer.apply_gradients(d_grad)\n",
    "update_g = g_optimizer.apply_gradients(g_grad)"
   ]
  },
  {
   "cell_type": "markdown",
   "metadata": {},
   "source": [
    "# Train VanillaGAN"
   ]
  },
  {
   "cell_type": "code",
   "execution_count": 6,
   "metadata": {
    "scrolled": false
   },
   "outputs": [
    {
     "name": "stdout",
     "output_type": "stream",
     "text": [
      "Epoch : 0, D_loss = 0.0806, G_loss = 5.3763\n"
     ]
    },
    {
     "data": {
      "image/png": "[encoded data removed]",
      "text/plain": [
       "<matplotlib.figure.Figure at 0x10504940>"
      ]
     },
     "metadata": {},
     "output_type": "display_data"
    },
    {
     "name": "stdout",
     "output_type": "stream",
     "text": [
      "Epoch : 10, D_loss = 0.3172, G_loss = 3.4449\n"
     ]
    },
    {
     "data": {
      "image/png": "[encoded data removed]",
      "text/plain": [
       "<matplotlib.figure.Figure at 0x1092b550>"
      ]
     },
     "metadata": {},
     "output_type": "display_data"
    },
    {
     "name": "stdout",
     "output_type": "stream",
     "text": [
      "Epoch : 20, D_loss = 0.6649, G_loss = 2.0875\n"
     ]
    },
    {
     "data": {
      "image/png": "[encoded data removed]",
      "text/plain": [
       "<matplotlib.figure.Figure at 0x11056be0>"
      ]
     },
     "metadata": {},
     "output_type": "display_data"
    },
    {
     "name": "stdout",
     "output_type": "stream",
     "text": [
      "Epoch : 30, D_loss = 0.7613, G_loss = 2.0228\n"
     ]
    },
    {
     "data": {
      "image/png": "[encoded data removed]",
      "text/plain": [
       "<matplotlib.figure.Figure at 0x1172d240>"
      ]
     },
     "metadata": {},
     "output_type": "display_data"
    },
    {
     "name": "stdout",
     "output_type": "stream",
     "text": [
      "Epoch : 40, D_loss = 0.8558, G_loss = 2.0504\n"
     ]
    },
    {
     "data": {
      "image/png": "[encoded data removed]",
      "text/plain": [
       "<matplotlib.figure.Figure at 0x1081a630>"
      ]
     },
     "metadata": {},
     "output_type": "display_data"
    },
    {
     "name": "stdout",
     "output_type": "stream",
     "text": [
      "Epoch : 50, D_loss = 0.7370, G_loss = 1.7724\n"
     ]
    },
    {
     "data": {
      "image/png": "[encoded data removed]",
      "text/plain": [
       "<matplotlib.figure.Figure at 0x1172d128>"
      ]
     },
     "metadata": {},
     "output_type": "display_data"
    },
    {
     "name": "stdout",
     "output_type": "stream",
     "text": [
      "Epoch : 60, D_loss = 0.9481, G_loss = 1.7416\n"
     ]
    },
    {
     "data": {
      "image/png": "[encoded data removed]",
      "text/plain": [
       "<matplotlib.figure.Figure at 0x11726a20>"
      ]
     },
     "metadata": {},
     "output_type": "display_data"
    },
    {
     "name": "stdout",
     "output_type": "stream",
     "text": [
      "Epoch : 70, D_loss = 0.8346, G_loss = 1.8401\n"
     ]
    },
    {
     "data": {
      "image/png": "[encoded data removed]",
      "text/plain": [
       "<matplotlib.figure.Figure at 0x11697e80>"
      ]
     },
     "metadata": {},
     "output_type": "display_data"
    },
    {
     "name": "stdout",
     "output_type": "stream",
     "text": [
      "Epoch : 80, D_loss = 0.8773, G_loss = 1.8296\n"
     ]
    },
    {
     "data": {
      "image/png": "[encoded data removed]",
      "text/plain": [
       "<matplotlib.figure.Figure at 0x22766a90>"
      ]
     },
     "metadata": {},
     "output_type": "display_data"
    },
    {
     "name": "stdout",
     "output_type": "stream",
     "text": [
      "Epoch : 90, D_loss = 0.8663, G_loss = 1.8836\n"
     ]
    },
    {
     "data": {
      "image/png": "[encoded data removed]",
      "text/plain": [
       "<matplotlib.figure.Figure at 0x227643c8>"
      ]
     },
     "metadata": {},
     "output_type": "display_data"
    },
    {
     "name": "stdout",
     "output_type": "stream",
     "text": [
      "Epoch : 100, D_loss = 0.7499, G_loss = 1.9866\n"
     ]
    },
    {
     "data": {
      "image/png": "[encoded data removed]",
      "text/plain": [
       "<matplotlib.figure.Figure at 0x22779518>"
      ]
     },
     "metadata": {},
     "output_type": "display_data"
    }
   ],
   "source": [
    "with get_session() as sess:\n",
    "    init = tf.global_variables_initializer()\n",
    "    sess.run(init)\n",
    "    \n",
    "    for step in range(epoch):\n",
    "        loss_val_D, loss_val_G = 0,0\n",
    "        total_batch = int(mnist.train.num_examples/batch_size)\n",
    "        \n",
    "        for i in range(total_batch):\n",
    "            batch_xs, batch_ys = mnist.train.next_batch(batch_size)\n",
    "            noise_z = make_noise(batch_size, noise_size)\n",
    "            \n",
    "            \n",
    "            _, loss_val_D = sess.run([update_d, loss_D], feed_dict = {X:batch_xs\n",
    "                                                                       , Z:noise_z})\n",
    "            _, loss_val_G = sess.run([update_g, loss_G], feed_dict = {Z:noise_z})\n",
    "        \n",
    "        \n",
    "        if step%10==0:\n",
    "            print('Epoch : {}, D_loss = {:.4f}, G_loss = {:.4f}'.format(step, loss_val_D, loss_val_G))\n",
    "            z = make_noise(5, noise_size)\n",
    "            display(sess, G, z)"
   ]
  },
  {
   "cell_type": "markdown",
   "metadata": {},
   "source": [
    "# Least Squares GAN(LSGAN) setting"
   ]
  },
  {
   "cell_type": "code",
   "execution_count": 7,
   "metadata": {
    "collapsed": true
   },
   "outputs": [],
   "source": [
    "loss_D, loss_G = loss_lsgan(D_real, D_fake)\n",
    "\n",
    "g_vars = tf.get_collection(tf.GraphKeys.TRAINABLE_VARIABLES, scope = 'Generator')\n",
    "d_vars = tf.get_collection(tf.GraphKeys.TRAINABLE_VARIABLES, scope = 'Discriminator')\n",
    "\n",
    "\n",
    "d_optimizer = tf.train.AdamOptimizer(learning_rate = learning_rate/2)\n",
    "g_optimizer = tf.train.AdamOptimizer(learning_rate = learning_rate)\n",
    "\n",
    "d_grad = d_optimizer.compute_gradients(loss_D, d_vars)\n",
    "g_grad = g_optimizer.compute_gradients(loss_G, g_vars)\n",
    "\n",
    "update_d = d_optimizer.apply_gradients(d_grad)\n",
    "update_g = g_optimizer.apply_gradients(g_grad)"
   ]
  },
  {
   "cell_type": "markdown",
   "metadata": {},
   "source": [
    "# Train LSGAN"
   ]
  },
  {
   "cell_type": "code",
   "execution_count": 8,
   "metadata": {},
   "outputs": [
    {
     "name": "stdout",
     "output_type": "stream",
     "text": [
      "Epoch : 0, D_loss = 0.0142, G_loss = 0.6211\n"
     ]
    },
    {
     "data": {
      "image/png": "[encoded data removed]",
      "text/plain": [
       "<matplotlib.figure.Figure at 0x104edbe0>"
      ]
     },
     "metadata": {},
     "output_type": "display_data"
    },
    {
     "name": "stdout",
     "output_type": "stream",
     "text": [
      "Epoch : 10, D_loss = 0.0440, G_loss = 0.4294\n"
     ]
    },
    {
     "data": {
      "image/png": "[encoded data removed]",
      "text/plain": [
       "<matplotlib.figure.Figure at 0x227f57f0>"
      ]
     },
     "metadata": {},
     "output_type": "display_data"
    },
    {
     "name": "stdout",
     "output_type": "stream",
     "text": [
      "Epoch : 20, D_loss = 0.0723, G_loss = 0.4042\n"
     ]
    },
    {
     "data": {
      "image/png": "[encoded data removed]",
      "text/plain": [
       "<matplotlib.figure.Figure at 0x227f01d0>"
      ]
     },
     "metadata": {},
     "output_type": "display_data"
    },
    {
     "name": "stdout",
     "output_type": "stream",
     "text": [
      "Epoch : 30, D_loss = 0.1232, G_loss = 0.3522\n"
     ]
    },
    {
     "data": {
      "image/png": "[encoded data removed]",
      "text/plain": [
       "<matplotlib.figure.Figure at 0x116b5ef0>"
      ]
     },
     "metadata": {},
     "output_type": "display_data"
    },
    {
     "name": "stdout",
     "output_type": "stream",
     "text": [
      "Epoch : 40, D_loss = 0.1356, G_loss = 0.3135\n"
     ]
    },
    {
     "data": {
      "image/png": "[encoded data removed]",
      "text/plain": [
       "<matplotlib.figure.Figure at 0x11695c88>"
      ]
     },
     "metadata": {},
     "output_type": "display_data"
    },
    {
     "name": "stdout",
     "output_type": "stream",
     "text": [
      "Epoch : 50, D_loss = 0.1266, G_loss = 0.3193\n"
     ]
    },
    {
     "data": {
      "image/png": "[encoded data removed]",
      "text/plain": [
       "<matplotlib.figure.Figure at 0x22789e10>"
      ]
     },
     "metadata": {},
     "output_type": "display_data"
    },
    {
     "name": "stdout",
     "output_type": "stream",
     "text": [
      "Epoch : 60, D_loss = 0.1603, G_loss = 0.2656\n"
     ]
    },
    {
     "data": {
      "image/png": "[encoded data removed]",
      "text/plain": [
       "<matplotlib.figure.Figure at 0x171010b8>"
      ]
     },
     "metadata": {},
     "output_type": "display_data"
    },
    {
     "name": "stdout",
     "output_type": "stream",
     "text": [
      "Epoch : 70, D_loss = 0.1277, G_loss = 0.2944\n"
     ]
    },
    {
     "data": {
      "image/png": "[encoded data removed]",
      "text/plain": [
       "<matplotlib.figure.Figure at 0x173a36a0>"
      ]
     },
     "metadata": {},
     "output_type": "display_data"
    },
    {
     "name": "stdout",
     "output_type": "stream",
     "text": [
      "Epoch : 80, D_loss = 0.1371, G_loss = 0.3040\n"
     ]
    },
    {
     "data": {
      "image/png": "[encoded data removed]",
      "text/plain": [
       "<matplotlib.figure.Figure at 0x173afac8>"
      ]
     },
     "metadata": {},
     "output_type": "display_data"
    },
    {
     "name": "stdout",
     "output_type": "stream",
     "text": [
      "Epoch : 90, D_loss = 0.1344, G_loss = 0.2831\n"
     ]
    },
    {
     "data": {
      "image/png": "[encoded data removed]",
      "text/plain": [
       "<matplotlib.figure.Figure at 0x173d9748>"
      ]
     },
     "metadata": {},
     "output_type": "display_data"
    },
    {
     "name": "stdout",
     "output_type": "stream",
     "text": [
      "Epoch : 100, D_loss = 0.1440, G_loss = 0.2780\n"
     ]
    },
    {
     "data": {
      "image/png": "[encoded data removed]",
      "text/plain": [
       "<matplotlib.figure.Figure at 0x197fb630>"
      ]
     },
     "metadata": {},
     "output_type": "display_data"
    }
   ],
   "source": [
    "with get_session() as sess:\n",
    "    init = tf.global_variables_initializer()\n",
    "    sess.run(init)\n",
    "    \n",
    "    for step in range(epoch):\n",
    "        loss_val_D, loss_val_G = 0,0\n",
    "        total_batch = int(mnist.train.num_examples/batch_size)\n",
    "        \n",
    "        for i in range(total_batch):\n",
    "            batch_xs, batch_ys = mnist.train.next_batch(batch_size)\n",
    "            noise_z = make_noise(batch_size, noise_size)\n",
    "            \n",
    "            \n",
    "            _, loss_val_D = sess.run([update_d, loss_D], feed_dict = {X:batch_xs\n",
    "                                                                       , Z:noise_z})\n",
    "            _, loss_val_G = sess.run([update_g, loss_G], feed_dict = {Z:noise_z})\n",
    "        \n",
    "        \n",
    "        if step%10==0:\n",
    "            print('Epoch : {}, D_loss = {:.4f}, G_loss = {:.4f}'.format(step, loss_val_D, loss_val_G))\n",
    "            z = make_noise(5, noise_size)\n",
    "            display(sess, G, z)"
   ]
  },
  {
   "cell_type": "markdown",
   "metadata": {},
   "source": [
    "# Deep Convolutional GAN(DCGAN) with least squares loss"
   ]
  },
  {
   "cell_type": "code",
   "execution_count": 9,
   "metadata": {
    "collapsed": true
   },
   "outputs": [],
   "source": [
    "G = generator_conv(Z, 64, 1, [3,3])\n",
    "D_real = discriminator_conv(X, 32, 64, [5,5])\n",
    "D_fake = discriminator_conv(G, 32, 64, [5,5], reuse = True)\n",
    "\n",
    "loss_D, loss_G = loss_lsgan(D_real, D_fake)\n",
    "\n",
    "g_vars = tf.get_collection(tf.GraphKeys.TRAINABLE_VARIABLES, scope = 'Generator')\n",
    "d_vars = tf.get_collection(tf.GraphKeys.TRAINABLE_VARIABLES, scope = 'Discriminator')\n",
    "\n",
    "\n",
    "d_optimizer = tf.train.AdamOptimizer(learning_rate = learning_rate)\n",
    "g_optimizer = tf.train.AdamOptimizer(learning_rate = learning_rate)\n",
    "\n",
    "d_grad = d_optimizer.compute_gradients(loss_D, d_vars)\n",
    "g_grad = g_optimizer.compute_gradients(loss_G, g_vars)\n",
    "\n",
    "update_d = d_optimizer.apply_gradients(d_grad)\n",
    "update_g = g_optimizer.apply_gradients(g_grad)"
   ]
  },
  {
   "cell_type": "markdown",
   "metadata": {},
   "source": [
    "# Train DCGAN with least suqares loss"
   ]
  },
  {
   "cell_type": "code",
   "execution_count": 10,
   "metadata": {},
   "outputs": [
    {
     "name": "stdout",
     "output_type": "stream",
     "text": [
      "Epoch : 0, D_loss = 0.0932, G_loss = 0.2709\n"
     ]
    },
    {
     "data": {
      "image/png": "[encoded data removed]",
      "text/plain": [
       "<matplotlib.figure.Figure at 0x4c43eb8>"
      ]
     },
     "metadata": {},
     "output_type": "display_data"
    },
    {
     "name": "stdout",
     "output_type": "stream",
     "text": [
      "Epoch : 10, D_loss = 0.1912, G_loss = 0.2128\n"
     ]
    },
    {
     "data": {
      "image/png": "[encoded data removed]",
      "text/plain": [
       "<matplotlib.figure.Figure at 0x2e8fadd8>"
      ]
     },
     "metadata": {},
     "output_type": "display_data"
    },
    {
     "name": "stdout",
     "output_type": "stream",
     "text": [
      "Epoch : 20, D_loss = 0.3985, G_loss = 0.9765\n"
     ]
    },
    {
     "data": {
      "image/png": "[encoded data removed]",
      "text/plain": [
       "<matplotlib.figure.Figure at 0x2ef2e438>"
      ]
     },
     "metadata": {},
     "output_type": "display_data"
    },
    {
     "name": "stdout",
     "output_type": "stream",
     "text": [
      "Epoch : 30, D_loss = 0.1965, G_loss = 0.3444\n"
     ]
    },
    {
     "data": {
      "image/png": "[encoded data removed]",
      "text/plain": [
       "<matplotlib.figure.Figure at 0x2e9d6ef0>"
      ]
     },
     "metadata": {},
     "output_type": "display_data"
    },
    {
     "name": "stdout",
     "output_type": "stream",
     "text": [
      "Epoch : 40, D_loss = 0.2472, G_loss = 0.3416\n"
     ]
    },
    {
     "data": {
      "image/png": "[encoded data removed]",
      "text/plain": [
       "<matplotlib.figure.Figure at 0x2aedf748>"
      ]
     },
     "metadata": {},
     "output_type": "display_data"
    },
    {
     "name": "stdout",
     "output_type": "stream",
     "text": [
      "Epoch : 50, D_loss = 0.3663, G_loss = 0.2113\n"
     ]
    },
    {
     "data": {
      "image/png": "[encoded data removed]",
      "text/plain": [
       "<matplotlib.figure.Figure at 0x2e3f6668>"
      ]
     },
     "metadata": {},
     "output_type": "display_data"
    },
    {
     "name": "stdout",
     "output_type": "stream",
     "text": [
      "Epoch : 60, D_loss = 0.1837, G_loss = 0.2399\n"
     ]
    },
    {
     "data": {
      "image/png": "[encoded data removed]",
      "text/plain": [
       "<matplotlib.figure.Figure at 0x2ffd13c8>"
      ]
     },
     "metadata": {},
     "output_type": "display_data"
    },
    {
     "name": "stdout",
     "output_type": "stream",
     "text": [
      "Epoch : 70, D_loss = 0.3424, G_loss = 0.3373\n"
     ]
    },
    {
     "data": {
      "image/png": "[encoded data removed]",
      "text/plain": [
       "<matplotlib.figure.Figure at 0x31605b70>"
      ]
     },
     "metadata": {},
     "output_type": "display_data"
    },
    {
     "name": "stdout",
     "output_type": "stream",
     "text": [
      "Epoch : 80, D_loss = 0.2584, G_loss = 0.2266\n"
     ]
    },
    {
     "data": {
      "image/png": "[encoded data removed]",
      "text/plain": [
       "<matplotlib.figure.Figure at 0x37397fd0>"
      ]
     },
     "metadata": {},
     "output_type": "display_data"
    },
    {
     "name": "stdout",
     "output_type": "stream",
     "text": [
      "Epoch : 90, D_loss = 0.4214, G_loss = 0.3093\n"
     ]
    },
    {
     "data": {
      "image/png": "[encoded data removed]",
      "text/plain": [
       "<matplotlib.figure.Figure at 0x38082b70>"
      ]
     },
     "metadata": {},
     "output_type": "display_data"
    },
    {
     "name": "stdout",
     "output_type": "stream",
     "text": [
      "Epoch : 100, D_loss = 0.2701, G_loss = 0.1243\n"
     ]
    },
    {
     "data": {
      "image/png": "[encoded data removed]",
      "text/plain": [
       "<matplotlib.figure.Figure at 0x381970f0>"
      ]
     },
     "metadata": {},
     "output_type": "display_data"
    }
   ],
   "source": [
    "with get_session() as sess:\n",
    "    init = tf.global_variables_initializer()\n",
    "    sess.run(init)\n",
    "    \n",
    "    for step in range(epoch):\n",
    "        loss_val_D, loss_val_G = 0,0\n",
    "        total_batch = int(mnist.train.num_examples/batch_size)\n",
    "        \n",
    "        for i in range(total_batch):\n",
    "            batch_xs, batch_ys = mnist.train.next_batch(batch_size)\n",
    "            noise_z = make_noise(batch_size, noise_size)\n",
    "            \n",
    "\n",
    "            _, loss_val_D = sess.run([update_d, loss_D], feed_dict = {X:batch_xs\n",
    "                                                                       , Z:noise_z, is_training:True})\n",
    "            _, loss_val_G = sess.run([update_g, loss_G], feed_dict = {Z:noise_z, is_training:True})\n",
    "     \n",
    "        \n",
    "        if step%10==0:\n",
    "            print('Epoch : {}, D_loss = {:.4f}, G_loss = {:.4f}'.format(step, loss_val_D, loss_val_G))\n",
    "            z = make_noise(5, noise_size)\n",
    "            display(sess, G, z)"
   ]
  },
  {
   "cell_type": "code",
   "execution_count": null,
   "metadata": {
    "collapsed": true
   },
   "outputs": [],
   "source": []
  }
 ],
 "metadata": {
  "kernelspec": {
   "display_name": "Python 3",
   "language": "python",
   "name": "python3"
  },
  "language_info": {
   "codemirror_mode": {
    "name": "ipython",
    "version": 3
   },
   "file_extension": ".py",
   "mimetype": "text/x-python",
   "name": "python",
   "nbconvert_exporter": "python",
   "pygments_lexer": "ipython3",
   "version": "3.5.4"
  }
 },
 "nbformat": 4,
 "nbformat_minor": 2
}
